{
 "cells": [
  {
   "cell_type": "code",
   "execution_count": 2,
   "metadata": {},
   "outputs": [
    {
     "name": "stdout",
     "output_type": "stream",
     "text": [
      "R running...\n",
      "R running...\n",
      "R running...\n",
      "R running...\n",
      "R running...\n",
      "R running...\n",
      "Finished after  12.038839101791382  seconds\n"
     ]
    }
   ],
   "source": [
    "import os\n",
    "os.environ['R_HOME']= 'C:\\\\Program Files\\\\R\\\\R-4.2.3'\n",
    "os.environ['PATH'] += os.pathsep + 'C:\\\\Program Files\\\\R\\\\R-4.2.3\\\\bin\\\\X64\\\\'\n",
    "os.environ['PATH'] += os.pathsep + 'C:\\\\Program Files\\\\R\\\\R-4.2.3\\\\'\n",
    "\n",
    "\n",
    "import time\n",
    "import threading\n",
    "import rpy2.robjects as robjects\n",
    "\n",
    "def long_r_function():\n",
    "    robjects.r('Sys.sleep(10)')    # pretend we have a long-running function in R\n",
    "\n",
    "r_thread = threading.Thread(target=long_r_function, daemon=True)\n",
    "start_time = time.time()\n",
    "r_thread.start()\n",
    "\n",
    "while r_thread.is_alive():\n",
    "    print(\"R running...\")    # expect to be able to see this print from main thread, \n",
    "    time.sleep(2)            # while R does work in second thread\n",
    "\n",
    "print(\"Finished after \", time.time() - start_time, \" seconds\")"
   ]
  },
  {
   "cell_type": "code",
   "execution_count": 1,
   "metadata": {},
   "outputs": [
    {
     "name": "stdout",
     "output_type": "stream",
     "text": [
      "3.5.1\n"
     ]
    }
   ],
   "source": [
    "import rpy2\n",
    "print(rpy2.__version__)"
   ]
  },
  {
   "cell_type": "code",
   "execution_count": 8,
   "metadata": {},
   "outputs": [
    {
     "name": "stdout",
     "output_type": "stream",
     "text": [
      "確認物種是否為: mouse, rat, human\n"
     ]
    },
    {
     "name": "stderr",
     "output_type": "stream",
     "text": [
      "c:\\Users\\jie\\Desktop\\pyEnv\\web_proteinAnls\\lib\\site-packages\\pandas\\core\\internals\\blocks.py:351: RuntimeWarning: divide by zero encountered in log2\n",
      "  result = func(self.values, **kwargs)\n"
     ]
    }
   ],
   "source": [
    "import re\n",
    "import pandas as pd\n",
    "import numpy as np\n",
    "import matplotlib.pyplot as plt\n",
    "import statistics\n",
    "\n",
    "filename = \"./proteinGroups_HsinYuan_Rat.txt\"\n",
    "rowdata = pd.read_csv(filename, sep=\"\\t\", dtype=object)\n",
    "rowdata.columns = rowdata.columns.str.replace(' ', '.')\n",
    "\n",
    "species_dict = {'mouse': \"OX=10090\", \"rat\":\"OX=10116\", \"human\":\"OX=9606\"}\n",
    "species = \"human\"\n",
    "try:\n",
    "    species = [key for key, value in species_dict.items() if re.search(value, rowdata.iloc[1][\"Fasta headers\"])][0]\n",
    "except:\n",
    "    print(\"確認物種是否為: mouse, rat, human\") # warning\n",
    "\n",
    "# 確認資料包含哪些condition\n",
    "data_anls = rowdata.filter(regex=(\"Reporter.intensity.corrected.*\"))\n",
    "\n",
    "condition_py = set([ re.sub(\"Reporter intensity corrected [0-9]+\", \"\",colname) for colname in data_anls.columns])\n",
    "numCondition_py = len(condition_py)\n",
    "\n",
    "# 選定condition後，畫出該condition中每個欄位各自的分布，計算median、outlier，讓使用者選擇要留下的欄位\n",
    "data_anls = data_anls.filter(regex=(\"AGE\"))\n",
    "data_anls = data_anls.apply(pd.to_numeric)\n",
    "data_anls = np.log2(data_anls)\n",
    "\n",
    "data_anls_colname = data_anls.columns\n",
    "\n",
    "data_anls_isfinite = data_anls[np.isfinite(data_anls[data_anls_colname[2]])] \n",
    "\n",
    "data_exp_design_dict = {}\n",
    "data_exp_design_dict['colname'] = data_anls.columns\n",
    "data_exp_design_dict['median_list'] = [statistics.median(data_anls[colname]) for colname in data_anls_colname]\n",
    "median_list_isfinite = [ median for median in data_exp_design_dict['median_list']  if np.isfinite(median) ]\n",
    "\n",
    "temp = pd.DataFrame(median_list_isfinite).describe()\n",
    "iqr = temp.loc['75%'] - temp.loc['25%']\n",
    "outlier_up = temp.loc['75%'] + 1.5*iqr\n",
    "outlier_down = temp.loc['25%'] - 1.5*iqr\n",
    "data_exp_design_dict['outliers'] = [ median for median in data_exp_design_dict['median_list'] if (median > outlier_up[0] or median < outlier_down[0]) ]"
   ]
  },
  {
   "cell_type": "markdown",
   "metadata": {},
   "source": []
  },
  {
   "cell_type": "code",
   "execution_count": 10,
   "metadata": {},
   "outputs": [
    {
     "data": {
      "text/plain": [
       "{'colname': Index(['Reporter.intensity.corrected.1.AGE',\n",
       "        'Reporter.intensity.corrected.2.AGE',\n",
       "        'Reporter.intensity.corrected.3.AGE',\n",
       "        'Reporter.intensity.corrected.4.AGE',\n",
       "        'Reporter.intensity.corrected.5.AGE',\n",
       "        'Reporter.intensity.corrected.6.AGE',\n",
       "        'Reporter.intensity.corrected.7.AGE',\n",
       "        'Reporter.intensity.corrected.8.AGE',\n",
       "        'Reporter.intensity.corrected.9.AGE',\n",
       "        'Reporter.intensity.corrected.10.AGE',\n",
       "        'Reporter.intensity.corrected.11.AGE'],\n",
       "       dtype='object'),\n",
       " 'median_list': [20.23210234181954,\n",
       "  20.997347654686045,\n",
       "  12.112081069181322,\n",
       "  -inf,\n",
       "  21.152022355373358,\n",
       "  21.2908085948535,\n",
       "  21.5418434130914,\n",
       "  21.6642285136592,\n",
       "  21.60982080004681,\n",
       "  21.905069641140773,\n",
       "  21.830396054440474],\n",
       " 'outliers': [12.112081069181322, -inf]}"
      ]
     },
     "execution_count": 10,
     "metadata": {},
     "output_type": "execute_result"
    }
   ],
   "source": [
    "data_exp_design_dict"
   ]
  },
  {
   "cell_type": "code",
   "execution_count": 21,
   "metadata": {},
   "outputs": [],
   "source": [
    "\n",
    "\n",
    " # outliers_val_py\n"
   ]
  },
  {
   "cell_type": "code",
   "execution_count": 20,
   "metadata": {},
   "outputs": [
    {
     "data": {
      "text/plain": [
       "[20.23210234181954,\n",
       " 20.997347654686045,\n",
       " 21.152022355373358,\n",
       " 21.2908085948535,\n",
       " 21.5418434130914,\n",
       " 21.6642285136592,\n",
       " 21.60982080004681,\n",
       " 21.905069641140773,\n",
       " 21.830396054440474]"
      ]
     },
     "execution_count": 20,
     "metadata": {},
     "output_type": "execute_result"
    }
   ],
   "source": [
    "data_exp_design_dict['outliers']\n"
   ]
  },
  {
   "cell_type": "code",
   "execution_count": 25,
   "metadata": {},
   "outputs": [
    {
     "data": {
      "text/plain": [
       "'Reporter intensity corrected 3 AGE'"
      ]
     },
     "execution_count": 25,
     "metadata": {},
     "output_type": "execute_result"
    }
   ],
   "source": [
    "data_anls_colname[2]"
   ]
  },
  {
   "cell_type": "code",
   "execution_count": 110,
   "metadata": {},
   "outputs": [
    {
     "data": {
      "text/plain": [
       "(array([  1.,   1.,   1.,   2.,   4.,   3.,   6.,  12.,  24.,  22.,  42.,\n",
       "         75.,  90.,  91., 118., 145., 125., 133., 100.,  81.,  41.,  26.,\n",
       "         18.,   6.,   3.]),\n",
       " array([ 6.47169147,  7.19805529,  7.92441911,  8.65078294,  9.37714676,\n",
       "        10.10351058, 10.8298744 , 11.55623823, 12.28260205, 13.00896587,\n",
       "        13.73532969, 14.46169352, 15.18805734, 15.91442116, 16.64078498,\n",
       "        17.36714881, 18.09351263, 18.81987645, 19.54624027, 20.27260409,\n",
       "        20.99896792, 21.72533174, 22.45169556, 23.17805938, 23.90442321,\n",
       "        24.63078703]),\n",
       " <BarContainer object of 25 artists>)"
      ]
     },
     "execution_count": 110,
     "metadata": {},
     "output_type": "execute_result"
    },
    {
     "data": {
      "image/png": "[encoded data removed]",
      "text/plain": [
       "<Figure size 640x480 with 1 Axes>"
      ]
     },
     "metadata": {},
     "output_type": "display_data"
    }
   ],
   "source": [
    "plt.hist(data_anls_isfinite[data_anls_colname[2]], bins=25)\n"
   ]
  },
  {
   "cell_type": "code",
   "execution_count": null,
   "metadata": {},
   "outputs": [],
   "source": []
  }
 ],
 "metadata": {
  "kernelspec": {
   "display_name": "web_proteinAnls",
   "language": "python",
   "name": "python3"
  },
  "language_info": {
   "codemirror_mode": {
    "name": "ipython",
    "version": 3
   },
   "file_extension": ".py",
   "mimetype": "text/x-python",
   "name": "python",
   "nbconvert_exporter": "python",
   "pygments_lexer": "ipython3",
   "version": "3.10.4"
  },
  "orig_nbformat": 4
 },
 "nbformat": 4,
 "nbformat_minor": 2
}
