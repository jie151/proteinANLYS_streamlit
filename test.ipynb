{
 "cells": [
  {
   "cell_type": "code",
   "execution_count": 24,
   "metadata": {},
   "outputs": [
    {
     "name": "stdout",
     "output_type": "stream",
     "text": [
      "CHD.C12\n"
     ]
    },
    {
     "data": {
      "text/plain": [
       "'CHD.C12'"
      ]
     },
     "execution_count": 24,
     "metadata": {},
     "output_type": "execute_result"
    }
   ],
   "source": [
    "import re\n",
    "\n",
    "a = \"CHD+C12\"\n",
    "a = re.sub(r'[^a-zA-Z0-9._]', '.', a)\n",
    "print(a)\n",
    "make_name(a)"
   ]
  },
  {
   "cell_type": "code",
   "execution_count": 22,
   "metadata": {},
   "outputs": [],
   "source": [
    "def make_name(string):\n",
    "    # 只允許有 letters, numbers and the dot or underline characters\n",
    "    string = re.sub(r'[^a-zA-Z0-9._]', '.', string)\n",
    "    # starts with a letter or the dot not followed by a number\n",
    "    allowed_pattern = r'([a-zA-Z][a-zA-Z0-9_]*|\\.[^0-9].*)'\n",
    "    match = re.match(allowed_pattern, string)\n",
    "    if not match:\n",
    "        string = \"X\" + string\n",
    "    return string\n"
   ]
  },
  {
   "cell_type": "code",
   "execution_count": null,
   "metadata": {},
   "outputs": [],
   "source": []
  }
 ],
 "metadata": {
  "kernelspec": {
   "display_name": "web_proteinAnls",
   "language": "python",
   "name": "python3"
  },
  "language_info": {
   "codemirror_mode": {
    "name": "ipython",
    "version": 3
   },
   "file_extension": ".py",
   "mimetype": "text/x-python",
   "name": "python",
   "nbconvert_exporter": "python",
   "pygments_lexer": "ipython3",
   "version": "3.10.4"
  },
  "orig_nbformat": 4
 },
 "nbformat": 4,
 "nbformat_minor": 2
}
