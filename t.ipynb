{
 "cells": [
  {
   "cell_type": "code",
   "execution_count": null,
   "metadata": {},
   "outputs": [],
   "source": [
    "import os\n",
    "\n",
    "os.environ['R_HOME']= 'C:\\\\Program Files\\\\R\\\\R-4.2.3'\n",
    "os.environ['PATH'] += os.pathsep + 'C:\\\\Program Files\\\\R\\\\R-4.2.3\\\\bin\\\\X64\\\\'\n",
    "os.environ['PATH'] += os.pathsep + 'C:\\\\Program Files\\\\R\\\\R-4.2.3\\\\'\n",
    "from io import BytesIO\n",
    "\n",
    "import PIL.Image as Image\n",
    "import rpy2.robjects as ro\n",
    "\n",
    "def main():\n",
    "    r = ro.r\n",
    "\n",
    "    r('''\n",
    "        library(cowplot) # save_plot\n",
    "        library(dplyr)\n",
    "        library(ggplot2)\n",
    "        library(clusterProfiler)\n",
    "        library(DOSE)\n",
    "        library(enrichplot)\n",
    "        \n",
    "        data(geneList)\n",
    "        de <- names(geneList)[abs(geneList) > 2]\n",
    "        edo <- enrichDGN(de)\n",
    "        edo2 <- gseDO(geneList, pvalueCutoff=1)\n",
    "       \n",
    "        pic18_3 <- gseaplot(edo2, geneSetID = 1, title = edo2$Description[1])\n",
    "        #library(\"magick\")\n",
    "        #figure <- image_graph()\n",
    "        # pic18_3\n",
    "        #image_write(figure, path = 'example.png', format = 'png')\n",
    "        library(ragg)\n",
    "        agg_png(\"t.png\")\n",
    "        pic18_3\n",
    "        dev.off()\n",
    "\n",
    "    ''')\n",
    "\n",
    "    image_data = ro.globalenv['image']\n",
    "\n",
    "    image = Image.open(BytesIO(bytes(image_data)))\n",
    "\n",
    "    return image\n",
    "\n",
    "\n",
    "if __name__ == '__main__':\n",
    "    image = main()\n",
    "    image.show()"
   ]
  },
  {
   "cell_type": "code",
   "execution_count": 3,
   "metadata": {},
   "outputs": [
    {
     "name": "stderr",
     "output_type": "stream",
     "text": [
      "Exception ignored from cffi callback <function _consolewrite_ex at 0x000001796CD072E0>:\n",
      "Traceback (most recent call last):\n",
      "  File \"c:\\Users\\jie\\Desktop\\pyEnv\\web_proteinAnls\\lib\\site-packages\\rpy2\\rinterface_lib\\callbacks.py\", line 133, in _consolewrite_ex\n",
      "    s = conversion._cchar_to_str_with_maxlen(buf, n, _CCHAR_ENCODING)\n",
      "  File \"c:\\Users\\jie\\Desktop\\pyEnv\\web_proteinAnls\\lib\\site-packages\\rpy2\\rinterface_lib\\conversion.py\", line 138, in _cchar_to_str_with_maxlen\n",
      "    s = ffi.string(c, maxlen).decode(encoding)\n",
      "UnicodeDecodeError: 'utf-8' codec can't decode byte 0xb8 in position 1: invalid start byte\n",
      "Exception ignored from cffi callback <function _consolewrite_ex at 0x000001796CD072E0>:\n",
      "Traceback (most recent call last):\n",
      "  File \"c:\\Users\\jie\\Desktop\\pyEnv\\web_proteinAnls\\lib\\site-packages\\rpy2\\rinterface_lib\\callbacks.py\", line 133, in _consolewrite_ex\n",
      "    s = conversion._cchar_to_str_with_maxlen(buf, n, _CCHAR_ENCODING)\n",
      "  File \"c:\\Users\\jie\\Desktop\\pyEnv\\web_proteinAnls\\lib\\site-packages\\rpy2\\rinterface_lib\\conversion.py\", line 138, in _cchar_to_str_with_maxlen\n",
      "    s = ffi.string(c, maxlen).decode(encoding)\n",
      "UnicodeDecodeError: 'utf-8' codec can't decode byte 0xa4 in position 0: invalid start byte\n",
      "Exception ignored from cffi callback <function _consolewrite_ex at 0x000001796CD072E0>:\n",
      "Traceback (most recent call last):\n",
      "  File \"c:\\Users\\jie\\Desktop\\pyEnv\\web_proteinAnls\\lib\\site-packages\\rpy2\\rinterface_lib\\callbacks.py\", line 133, in _consolewrite_ex\n",
      "    s = conversion._cchar_to_str_with_maxlen(buf, n, _CCHAR_ENCODING)\n",
      "  File \"c:\\Users\\jie\\Desktop\\pyEnv\\web_proteinAnls\\lib\\site-packages\\rpy2\\rinterface_lib\\conversion.py\", line 138, in _cchar_to_str_with_maxlen\n",
      "    s = ffi.string(c, maxlen).decode(encoding)\n",
      "UnicodeDecodeError: 'utf-8' codec can't decode byte 0xa4 in position 0: invalid start byte\n",
      "R[write to console]: \n",
      "\n",
      "R[write to console]: clusterProfiler v4.6.2  For help: https://yulab-smu.top/biomedical-knowledge-mining-book/\n",
      "\n",
      "If you use clusterProfiler in published research, please cite:\n",
      "T Wu, E Hu, S Xu, M Chen, P Guo, Z Dai, T Feng, L Zhou, W Tang, L Zhan, X Fu, S Liu, X Bo, and G Yu. clusterProfiler 4.0: A universal enrichment tool for interpreting omics data. The Innovation. 2021, 2(3):100141\n",
      "\n",
      "Exception ignored from cffi callback <function _consolewrite_ex at 0x000001796CD072E0>:\n",
      "Traceback (most recent call last):\n",
      "  File \"c:\\Users\\jie\\Desktop\\pyEnv\\web_proteinAnls\\lib\\site-packages\\rpy2\\rinterface_lib\\callbacks.py\", line 133, in _consolewrite_ex\n",
      "    s = conversion._cchar_to_str_with_maxlen(buf, n, _CCHAR_ENCODING)\n",
      "  File \"c:\\Users\\jie\\Desktop\\pyEnv\\web_proteinAnls\\lib\\site-packages\\rpy2\\rinterface_lib\\conversion.py\", line 138, in _cchar_to_str_with_maxlen\n",
      "    s = ffi.string(c, maxlen).decode(encoding)\n",
      "UnicodeDecodeError: 'utf-8' codec can't decode byte 0xb8 in position 1: invalid start byte\n",
      "Exception ignored from cffi callback <function _consolewrite_ex at 0x000001796CD072E0>:\n",
      "Traceback (most recent call last):\n",
      "  File \"c:\\Users\\jie\\Desktop\\pyEnv\\web_proteinAnls\\lib\\site-packages\\rpy2\\rinterface_lib\\callbacks.py\", line 133, in _consolewrite_ex\n",
      "    s = conversion._cchar_to_str_with_maxlen(buf, n, _CCHAR_ENCODING)\n",
      "  File \"c:\\Users\\jie\\Desktop\\pyEnv\\web_proteinAnls\\lib\\site-packages\\rpy2\\rinterface_lib\\conversion.py\", line 138, in _cchar_to_str_with_maxlen\n",
      "    s = ffi.string(c, maxlen).decode(encoding)\n",
      "UnicodeDecodeError: 'utf-8' codec can't decode byte 0xa4 in position 0: invalid start byte\n",
      "R[write to console]: DOSE v3.24.2  For help: https://yulab-smu.top/biomedical-knowledge-mining-book/\n",
      "\n",
      "If you use DOSE in published research, please cite:\n",
      "Guangchuang Yu, Li-Gen Wang, Guang-Rong Yan, Qing-Yu He. DOSE: an R/Bioconductor package for Disease Ontology Semantic and Enrichment analysis. Bioinformatics 2015, 31(4):608-609\n",
      "\n",
      "\n",
      "R[write to console]: preparing geneSet collections...\n",
      "\n",
      "R[write to console]: GSEA analysis...\n",
      "\n",
      "R[write to console]: leading edge analysis...\n",
      "\n",
      "R[write to console]: done...\n",
      "\n"
     ]
    },
    {
     "data": {
      "text/plain": [
       "<rpy2.robjects.methods.RS4 object at 0x0000017970F32740> [RTYPES.S4SXP]\n",
       "R classes: ('gseaResult',)"
      ]
     },
     "execution_count": 3,
     "metadata": {},
     "output_type": "execute_result"
    }
   ],
   "source": [
    "import os\n",
    "\n",
    "os.environ['R_HOME']= 'C:\\\\Program Files\\\\R\\\\R-4.2.3'\n",
    "os.environ['PATH'] += os.pathsep + 'C:\\\\Program Files\\\\R\\\\R-4.2.3\\\\bin\\\\X64\\\\'\n",
    "os.environ['PATH'] += os.pathsep + 'C:\\\\Program Files\\\\R\\\\R-4.2.3\\\\'\n",
    "from io import BytesIO\n",
    "\n",
    "import PIL.Image as Image\n",
    "import rpy2.robjects as ro\n",
    "r = ro.r\n",
    "r('''\n",
    "        library(cowplot) # save_plot\n",
    "        library(dplyr)\n",
    "        library(ggplot2)\n",
    "        library(clusterProfiler)\n",
    "        library(DOSE)\n",
    "        library(enrichplot)\n",
    "        \n",
    "        data(geneList)\n",
    "        de <- names(geneList)[abs(geneList) > 2]\n",
    "        edo <- enrichDGN(de)\n",
    "        edo2 <- gseDO(geneList, pvalueCutoff=1)\n",
    "       ''')\n",
    "\n",
    "        "
   ]
  },
  {
   "cell_type": "code",
   "execution_count": 4,
   "metadata": {},
   "outputs": [
    {
     "data": {
      "text/html": [
       "\n",
       "        <span>IntVector with 1 elements.</span>\n",
       "        <table>\n",
       "        <tbody>\n",
       "          <tr>\n",
       "          \n",
       "            <td>\n",
       "            1\n",
       "            </td>\n",
       "          \n",
       "          </tr>\n",
       "        </tbody>\n",
       "        </table>\n",
       "        "
      ],
      "text/plain": [
       "<rpy2.robjects.vectors.IntVector object at 0x0000017970F06100> [RTYPES.INTSXP]\n",
       "R classes: ('integer',)\n",
       "[1]"
      ]
     },
     "execution_count": 4,
     "metadata": {},
     "output_type": "execute_result"
    }
   ],
   "source": [
    "r('''\n",
    "        pic18_3 <- gseaplot(edo2, geneSetID = 1, title = edo2$Description[1])\n",
    "        #library(\"magick\")\n",
    "        #figure <- image_graph()\n",
    "        # pic18_3\n",
    "        #image_write(figure, path = 'example.png', format = 'png')\n",
    "        library(ragg)\n",
    "        agg_png(\"t.png\")\n",
    "        pic18_3\n",
    "        dev.off()\n",
    "    \n",
    "    ''')"
   ]
  },
  {
   "cell_type": "code",
   "execution_count": 5,
   "metadata": {},
   "outputs": [
    {
     "ename": "",
     "evalue": "",
     "output_type": "error",
     "traceback": [
      "\u001b[1;31mThe Kernel crashed while executing code in the the current cell or a previous cell. Please review the code in the cell(s) to identify a possible cause of the failure. Click <a href='https://aka.ms/vscodeJupyterKernelCrash'>here</a> for more info. View Jupyter <a href='command:jupyter.viewOutput'>log</a> for further details."
     ]
    }
   ],
   "source": [
    "image_data = ro.globalenv['pic18_3']\n",
    "image = Image.open(BytesIO(bytes(image_data)))\n",
    "\n",
    "#image = Image.open(BytesIO(bytes(image_data)))"
   ]
  },
  {
   "cell_type": "code",
   "execution_count": null,
   "metadata": {},
   "outputs": [],
   "source": []
  }
 ],
 "metadata": {
  "kernelspec": {
   "display_name": "web_proteinAnls",
   "language": "python",
   "name": "python3"
  },
  "language_info": {
   "codemirror_mode": {
    "name": "ipython",
    "version": 3
   },
   "file_extension": ".py",
   "mimetype": "text/x-python",
   "name": "python",
   "nbconvert_exporter": "python",
   "pygments_lexer": "ipython3",
   "version": "3.10.4"
  },
  "orig_nbformat": 4
 },
 "nbformat": 4,
 "nbformat_minor": 2
}
