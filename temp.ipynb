{
 "cells": [
  {
   "cell_type": "code",
   "execution_count": 2,
   "metadata": {},
   "outputs": [
    {
     "name": "stdout",
     "output_type": "stream",
     "text": [
      "R running...\n",
      "R running...\n",
      "R running...\n",
      "R running...\n",
      "R running...\n",
      "R running...\n",
      "Finished after  12.038839101791382  seconds\n"
     ]
    }
   ],
   "source": [
    "import os\n",
    "os.environ['R_HOME']= 'C:\\\\Program Files\\\\R\\\\R-4.2.3'\n",
    "os.environ['PATH'] += os.pathsep + 'C:\\\\Program Files\\\\R\\\\R-4.2.3\\\\bin\\\\X64\\\\'\n",
    "os.environ['PATH'] += os.pathsep + 'C:\\\\Program Files\\\\R\\\\R-4.2.3\\\\'\n",
    "\n",
    "\n",
    "import time\n",
    "import threading\n",
    "import rpy2.robjects as robjects\n",
    "\n",
    "def long_r_function():\n",
    "    robjects.r('Sys.sleep(10)')    # pretend we have a long-running function in R\n",
    "\n",
    "r_thread = threading.Thread(target=long_r_function, daemon=True)\n",
    "start_time = time.time()\n",
    "r_thread.start()\n",
    "\n",
    "while r_thread.is_alive():\n",
    "    print(\"R running...\")    # expect to be able to see this print from main thread, \n",
    "    time.sleep(2)            # while R does work in second thread\n",
    "\n",
    "print(\"Finished after \", time.time() - start_time, \" seconds\")"
   ]
  },
  {
   "cell_type": "code",
   "execution_count": null,
   "metadata": {},
   "outputs": [],
   "source": []
  }
 ],
 "metadata": {
  "kernelspec": {
   "display_name": "web_proteinAnls",
   "language": "python",
   "name": "python3"
  },
  "language_info": {
   "codemirror_mode": {
    "name": "ipython",
    "version": 3
   },
   "file_extension": ".py",
   "mimetype": "text/x-python",
   "name": "python",
   "nbconvert_exporter": "python",
   "pygments_lexer": "ipython3",
   "version": "3.10.4"
  },
  "orig_nbformat": 4
 },
 "nbformat": 4,
 "nbformat_minor": 2
}
